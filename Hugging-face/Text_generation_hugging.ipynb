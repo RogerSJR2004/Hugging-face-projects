{
  "cells": [
    {
      "cell_type": "code",
      "execution_count": null,
      "metadata": {
        "id": "4tajz_T1aUxz"
      },
      "outputs": [],
      "source": [
        "import warnings\n",
        "warnings.filterwarnings('ignore')\n",
        "\n",
        "import numpy as np\n",
        "import pandas as pd\n",
        "import matplotlib.pyplot as plt\n",
        "import seaborn as sns\n",
        "sns.set()\n",
        "\n",
        "from sklearn.model_selection import train_test_split\n",
        "from sklearn.metrics import f1_score, confusion_matrix,roc_auc_score\n",
        "\n",
        "from transformers import pipeline\n",
        "\n",
        "import torch"
      ]
    },
    {
      "cell_type": "code",
      "execution_count": null,
      "metadata": {
        "colab": {
          "base_uri": "https://localhost:8080/",
          "height": 206
        },
        "id": "N-J-jHjZVsCT",
        "outputId": "cdb00bda-49c2-415e-c55a-df4b677f0b40"
      },
      "outputs": [
        {
          "data": {
            "application/vnd.google.colaboratory.intrinsic+json": {
              "summary": "{\n  \"name\": \"poems\",\n  \"rows\": 109,\n  \"fields\": [\n    {\n      \"column\": \"Name \",\n      \"properties\": {\n        \"dtype\": \"string\",\n        \"num_unique_values\": 107,\n        \"samples\": [\n          \"Dust of Snow\",\n          \"The Road not taken\",\n          \"I Will Sing You One O\"\n        ],\n        \"semantic_type\": \"\",\n        \"description\": \"\"\n      }\n    },\n    {\n      \"column\": \"Content\",\n      \"properties\": {\n        \"dtype\": \"string\",\n        \"num_unique_values\": 107,\n        \"samples\": [\n          \"The way a crow\\nShook down on me\\nThe dust of snow\\nFrom a hemlock tree\\nHas given my heart\\nA change of mood\\nAnd saved some part \\nOf a day I had rued.\",\n          \"Two roads diverged in a yellow wood,\\nAnd sorry I could not travel both\\nAnd be one traveler, long I stood\\nAnd looked down one as far as I could\\nTo where it bent in the undergrowth;\\nThen took the other, as just as fair,\\nAnd having perhaps the better claim,\\nBecause it was grassy and wanted wear;\\nThough as for that the passing there\\nHad worn them really about the same,\\nAnd both that morning equally lay\\nIn leaves no step had trodden black.\\nOh, I kept the first for another day!\\nYet knowing how way leads on to way,\\nI doubted if I should ever come back.\\nI shall be telling this with a sigh\\nSomewhere ages and ages hence:\\nTwo roads diverged in a wood, and I\\nI took the one less traveled by,\\nAnd that has made all the difference.\\n\",\n          \"It was long I lay\\nAwake that night\\nWishing the tower\\nWould name the hour\\nAnd tell me whether\\nTo call it day\\nThough not yet light\\nAnd give up sleep.\\nThe snow fell deep\\nWith the hiss of spray;\\nTwo winds would meet,\\nOne down one street,\\nOne down another,\\nAnd fight in a smother\\nOf dust and feather.\\nI could not say,\\nBut feared the cold\\nHad checked the pace\\nOf the tower clock\\nBy tying together\\nIts hands of gold\\nBefore its face.\\nThen came one knock!\\nA note unruffled\\nOf earthly weather,\\nThough strange and muffled.\\nThe tower said, One!\\nAnd then a steeple.\\nThey spoke to themselves\\nAnd such few people\\nAs winds might rouse\\nFrom sleeping warm\\nBut not unhouse.\\nThey left the storm\\nThat struck en masse\\nMy window glass\\nLike a beaded fur.\\nIn that grave One\\nThey spoke of the sun\\nAnd moon and stars,\\nSaturn and Mars\\nAnd Jupiter.\\nStill more unfettered,\\nThey left the named\\nAnd spoke of the lettered,\\nThe sigmas and taus\\nOf constellations.\\nThey filled their throats\\nWith the furthest bodies\\nTo which man sends his\\nSpeculation,\\nBeyond which God is;\\nThe cosmic motes\\nOf yawning lenses.\\nTheir solemn peals\\nWere not their own:\\nThey spoke for the clock\\nWith whose vast wheels\\nTheirs interlock.\\nIn that grave word\\nUttered alone\\nThe utmost star\\nTrembled and stirred,\\nThough set so far\\nIts whirling frenzies\\nAppear like standing\\nIn one self station.\\nIt has not ranged,\\nAnd save for the wonder\\nOf once expanding\\nTo be a nova,\\nIt has not changed\\nTo the eye of man\\nOn planets over\\nAround and under\\nIt in creation\\nSince man began\\nTo drag down man\\nAnd nation nation.\\n\"\n        ],\n        \"semantic_type\": \"\",\n        \"description\": \"\"\n      }\n    },\n    {\n      \"column\": \"Collection\",\n      \"properties\": {\n        \"dtype\": \"category\",\n        \"num_unique_values\": 10,\n        \"samples\": [\n          \"Mountain Interval\",\n          \"West-Running Book\",\n          \"A Witness tree\"\n        ],\n        \"semantic_type\": \"\",\n        \"description\": \"\"\n      }\n    },\n    {\n      \"column\": \"Year of Publication\",\n      \"properties\": {\n        \"dtype\": \"number\",\n        \"std\": 2347.073156404908,\n        \"min\": 1913.0,\n        \"max\": 19166.0,\n        \"num_unique_values\": 8,\n        \"samples\": [\n          1928.0,\n          1942.0,\n          1923.0\n        ],\n        \"semantic_type\": \"\",\n        \"description\": \"\"\n      }\n    }\n  ]\n}",
              "type": "dataframe",
              "variable_name": "poems"
            },
            "text/html": [
              "\n",
              "  <div id=\"df-58217cf7-ee5c-48fb-9bca-1f34fa5c5b38\" class=\"colab-df-container\">\n",
              "    <div>\n",
              "<style scoped>\n",
              "    .dataframe tbody tr th:only-of-type {\n",
              "        vertical-align: middle;\n",
              "    }\n",
              "\n",
              "    .dataframe tbody tr th {\n",
              "        vertical-align: top;\n",
              "    }\n",
              "\n",
              "    .dataframe thead th {\n",
              "        text-align: right;\n",
              "    }\n",
              "</style>\n",
              "<table border=\"1\" class=\"dataframe\">\n",
              "  <thead>\n",
              "    <tr style=\"text-align: right;\">\n",
              "      <th></th>\n",
              "      <th>Name</th>\n",
              "      <th>Content</th>\n",
              "      <th>Collection</th>\n",
              "      <th>Year of Publication</th>\n",
              "    </tr>\n",
              "  </thead>\n",
              "  <tbody>\n",
              "    <tr>\n",
              "      <th>0</th>\n",
              "      <td>NaN</td>\n",
              "      <td>NaN</td>\n",
              "      <td>NaN</td>\n",
              "      <td>NaN</td>\n",
              "    </tr>\n",
              "    <tr>\n",
              "      <th>1</th>\n",
              "      <td>Stopping by Woods on a Snowy Evening</td>\n",
              "      <td>Whose woods these are I think I know.   \\nHis ...</td>\n",
              "      <td>New Hampshire</td>\n",
              "      <td>1923.0</td>\n",
              "    </tr>\n",
              "    <tr>\n",
              "      <th>2</th>\n",
              "      <td>Fire and Ice</td>\n",
              "      <td>Some say the world will end in fire,\\nSome say...</td>\n",
              "      <td>New Hampshire</td>\n",
              "      <td>1923.0</td>\n",
              "    </tr>\n",
              "    <tr>\n",
              "      <th>3</th>\n",
              "      <td>The Aim was Song</td>\n",
              "      <td>Before man came to blow it right\\nThe wind onc...</td>\n",
              "      <td>New Hampshire</td>\n",
              "      <td>1923.0</td>\n",
              "    </tr>\n",
              "    <tr>\n",
              "      <th>4</th>\n",
              "      <td>The Need of Being Versed in Country Things</td>\n",
              "      <td>The house had gone to bring again\\nTo the midn...</td>\n",
              "      <td>New Hampshire</td>\n",
              "      <td>1923.0</td>\n",
              "    </tr>\n",
              "  </tbody>\n",
              "</table>\n",
              "</div>\n",
              "    <div class=\"colab-df-buttons\">\n",
              "\n",
              "  <div class=\"colab-df-container\">\n",
              "    <button class=\"colab-df-convert\" onclick=\"convertToInteractive('df-58217cf7-ee5c-48fb-9bca-1f34fa5c5b38')\"\n",
              "            title=\"Convert this dataframe to an interactive table.\"\n",
              "            style=\"display:none;\">\n",
              "\n",
              "  <svg xmlns=\"http://www.w3.org/2000/svg\" height=\"24px\" viewBox=\"0 -960 960 960\">\n",
              "    <path d=\"M120-120v-720h720v720H120Zm60-500h600v-160H180v160Zm220 220h160v-160H400v160Zm0 220h160v-160H400v160ZM180-400h160v-160H180v160Zm440 0h160v-160H620v160ZM180-180h160v-160H180v160Zm440 0h160v-160H620v160Z\"/>\n",
              "  </svg>\n",
              "    </button>\n",
              "\n",
              "  <style>\n",
              "    .colab-df-container {\n",
              "      display:flex;\n",
              "      gap: 12px;\n",
              "    }\n",
              "\n",
              "    .colab-df-convert {\n",
              "      background-color: #E8F0FE;\n",
              "      border: none;\n",
              "      border-radius: 50%;\n",
              "      cursor: pointer;\n",
              "      display: none;\n",
              "      fill: #1967D2;\n",
              "      height: 32px;\n",
              "      padding: 0 0 0 0;\n",
              "      width: 32px;\n",
              "    }\n",
              "\n",
              "    .colab-df-convert:hover {\n",
              "      background-color: #E2EBFA;\n",
              "      box-shadow: 0px 1px 2px rgba(60, 64, 67, 0.3), 0px 1px 3px 1px rgba(60, 64, 67, 0.15);\n",
              "      fill: #174EA6;\n",
              "    }\n",
              "\n",
              "    .colab-df-buttons div {\n",
              "      margin-bottom: 4px;\n",
              "    }\n",
              "\n",
              "    [theme=dark] .colab-df-convert {\n",
              "      background-color: #3B4455;\n",
              "      fill: #D2E3FC;\n",
              "    }\n",
              "\n",
              "    [theme=dark] .colab-df-convert:hover {\n",
              "      background-color: #434B5C;\n",
              "      box-shadow: 0px 1px 3px 1px rgba(0, 0, 0, 0.15);\n",
              "      filter: drop-shadow(0px 1px 2px rgba(0, 0, 0, 0.3));\n",
              "      fill: #FFFFFF;\n",
              "    }\n",
              "  </style>\n",
              "\n",
              "    <script>\n",
              "      const buttonEl =\n",
              "        document.querySelector('#df-58217cf7-ee5c-48fb-9bca-1f34fa5c5b38 button.colab-df-convert');\n",
              "      buttonEl.style.display =\n",
              "        google.colab.kernel.accessAllowed ? 'block' : 'none';\n",
              "\n",
              "      async function convertToInteractive(key) {\n",
              "        const element = document.querySelector('#df-58217cf7-ee5c-48fb-9bca-1f34fa5c5b38');\n",
              "        const dataTable =\n",
              "          await google.colab.kernel.invokeFunction('convertToInteractive',\n",
              "                                                    [key], {});\n",
              "        if (!dataTable) return;\n",
              "\n",
              "        const docLinkHtml = 'Like what you see? Visit the ' +\n",
              "          '<a target=\"_blank\" href=https://colab.research.google.com/notebooks/data_table.ipynb>data table notebook</a>'\n",
              "          + ' to learn more about interactive tables.';\n",
              "        element.innerHTML = '';\n",
              "        dataTable['output_type'] = 'display_data';\n",
              "        await google.colab.output.renderOutput(dataTable, element);\n",
              "        const docLink = document.createElement('div');\n",
              "        docLink.innerHTML = docLinkHtml;\n",
              "        element.appendChild(docLink);\n",
              "      }\n",
              "    </script>\n",
              "  </div>\n",
              "\n",
              "\n",
              "    <div id=\"df-6aec3d24-99f9-446c-be55-9eaa1caff62b\">\n",
              "      <button class=\"colab-df-quickchart\" onclick=\"quickchart('df-6aec3d24-99f9-446c-be55-9eaa1caff62b')\"\n",
              "                title=\"Suggest charts\"\n",
              "                style=\"display:none;\">\n",
              "\n",
              "<svg xmlns=\"http://www.w3.org/2000/svg\" height=\"24px\"viewBox=\"0 0 24 24\"\n",
              "     width=\"24px\">\n",
              "    <g>\n",
              "        <path d=\"M19 3H5c-1.1 0-2 .9-2 2v14c0 1.1.9 2 2 2h14c1.1 0 2-.9 2-2V5c0-1.1-.9-2-2-2zM9 17H7v-7h2v7zm4 0h-2V7h2v10zm4 0h-2v-4h2v4z\"/>\n",
              "    </g>\n",
              "</svg>\n",
              "      </button>\n",
              "\n",
              "<style>\n",
              "  .colab-df-quickchart {\n",
              "      --bg-color: #E8F0FE;\n",
              "      --fill-color: #1967D2;\n",
              "      --hover-bg-color: #E2EBFA;\n",
              "      --hover-fill-color: #174EA6;\n",
              "      --disabled-fill-color: #AAA;\n",
              "      --disabled-bg-color: #DDD;\n",
              "  }\n",
              "\n",
              "  [theme=dark] .colab-df-quickchart {\n",
              "      --bg-color: #3B4455;\n",
              "      --fill-color: #D2E3FC;\n",
              "      --hover-bg-color: #434B5C;\n",
              "      --hover-fill-color: #FFFFFF;\n",
              "      --disabled-bg-color: #3B4455;\n",
              "      --disabled-fill-color: #666;\n",
              "  }\n",
              "\n",
              "  .colab-df-quickchart {\n",
              "    background-color: var(--bg-color);\n",
              "    border: none;\n",
              "    border-radius: 50%;\n",
              "    cursor: pointer;\n",
              "    display: none;\n",
              "    fill: var(--fill-color);\n",
              "    height: 32px;\n",
              "    padding: 0;\n",
              "    width: 32px;\n",
              "  }\n",
              "\n",
              "  .colab-df-quickchart:hover {\n",
              "    background-color: var(--hover-bg-color);\n",
              "    box-shadow: 0 1px 2px rgba(60, 64, 67, 0.3), 0 1px 3px 1px rgba(60, 64, 67, 0.15);\n",
              "    fill: var(--button-hover-fill-color);\n",
              "  }\n",
              "\n",
              "  .colab-df-quickchart-complete:disabled,\n",
              "  .colab-df-quickchart-complete:disabled:hover {\n",
              "    background-color: var(--disabled-bg-color);\n",
              "    fill: var(--disabled-fill-color);\n",
              "    box-shadow: none;\n",
              "  }\n",
              "\n",
              "  .colab-df-spinner {\n",
              "    border: 2px solid var(--fill-color);\n",
              "    border-color: transparent;\n",
              "    border-bottom-color: var(--fill-color);\n",
              "    animation:\n",
              "      spin 1s steps(1) infinite;\n",
              "  }\n",
              "\n",
              "  @keyframes spin {\n",
              "    0% {\n",
              "      border-color: transparent;\n",
              "      border-bottom-color: var(--fill-color);\n",
              "      border-left-color: var(--fill-color);\n",
              "    }\n",
              "    20% {\n",
              "      border-color: transparent;\n",
              "      border-left-color: var(--fill-color);\n",
              "      border-top-color: var(--fill-color);\n",
              "    }\n",
              "    30% {\n",
              "      border-color: transparent;\n",
              "      border-left-color: var(--fill-color);\n",
              "      border-top-color: var(--fill-color);\n",
              "      border-right-color: var(--fill-color);\n",
              "    }\n",
              "    40% {\n",
              "      border-color: transparent;\n",
              "      border-right-color: var(--fill-color);\n",
              "      border-top-color: var(--fill-color);\n",
              "    }\n",
              "    60% {\n",
              "      border-color: transparent;\n",
              "      border-right-color: var(--fill-color);\n",
              "    }\n",
              "    80% {\n",
              "      border-color: transparent;\n",
              "      border-right-color: var(--fill-color);\n",
              "      border-bottom-color: var(--fill-color);\n",
              "    }\n",
              "    90% {\n",
              "      border-color: transparent;\n",
              "      border-bottom-color: var(--fill-color);\n",
              "    }\n",
              "  }\n",
              "</style>\n",
              "\n",
              "      <script>\n",
              "        async function quickchart(key) {\n",
              "          const quickchartButtonEl =\n",
              "            document.querySelector('#' + key + ' button');\n",
              "          quickchartButtonEl.disabled = true;  // To prevent multiple clicks.\n",
              "          quickchartButtonEl.classList.add('colab-df-spinner');\n",
              "          try {\n",
              "            const charts = await google.colab.kernel.invokeFunction(\n",
              "                'suggestCharts', [key], {});\n",
              "          } catch (error) {\n",
              "            console.error('Error during call to suggestCharts:', error);\n",
              "          }\n",
              "          quickchartButtonEl.classList.remove('colab-df-spinner');\n",
              "          quickchartButtonEl.classList.add('colab-df-quickchart-complete');\n",
              "        }\n",
              "        (() => {\n",
              "          let quickchartButtonEl =\n",
              "            document.querySelector('#df-6aec3d24-99f9-446c-be55-9eaa1caff62b button');\n",
              "          quickchartButtonEl.style.display =\n",
              "            google.colab.kernel.accessAllowed ? 'block' : 'none';\n",
              "        })();\n",
              "      </script>\n",
              "    </div>\n",
              "\n",
              "    </div>\n",
              "  </div>\n"
            ],
            "text/plain": [
              "                                        Name   \\\n",
              "0                                         NaN   \n",
              "1        Stopping by Woods on a Snowy Evening   \n",
              "2                                Fire and Ice   \n",
              "3                            The Aim was Song   \n",
              "4  The Need of Being Versed in Country Things   \n",
              "\n",
              "                                             Content     Collection  \\\n",
              "0                                                NaN            NaN   \n",
              "1  Whose woods these are I think I know.   \\nHis ...  New Hampshire   \n",
              "2  Some say the world will end in fire,\\nSome say...  New Hampshire   \n",
              "3  Before man came to blow it right\\nThe wind onc...  New Hampshire   \n",
              "4  The house had gone to bring again\\nTo the midn...  New Hampshire   \n",
              "\n",
              "   Year of Publication  \n",
              "0                  NaN  \n",
              "1               1923.0  \n",
              "2               1923.0  \n",
              "3               1923.0  \n",
              "4               1923.0  "
            ]
          },
          "execution_count": 2,
          "metadata": {},
          "output_type": "execute_result"
        }
      ],
      "source": [
        "poems = pd.read_csv('robert_frost_collection.csv')\n",
        "poems.head()"
      ]
    },
    {
      "cell_type": "code",
      "execution_count": null,
      "metadata": {
        "id": "mUQ2Ei93anCC"
      },
      "outputs": [],
      "source": [
        "content = poems[\"Content\"].dropna().tolist()"
      ]
    },
    {
      "cell_type": "code",
      "execution_count": null,
      "metadata": {
        "id": "KU3HZb1Qa2Ae"
      },
      "outputs": [],
      "source": [
        "lines = []\n",
        "for poem in content:\n",
        "  for line in poem.split('\\n'):\n",
        "    lines.append(line.rstrip())"
      ]
    },
    {
      "cell_type": "code",
      "execution_count": null,
      "metadata": {
        "colab": {
          "base_uri": "https://localhost:8080/"
        },
        "id": "NxmZuq72bLY6",
        "outputId": "d398b664-3413-4f15-cfeb-0ab35b6c9060"
      },
      "outputs": [
        {
          "data": {
            "text/plain": [
              "['Whose woods these are I think I know.',\n",
              " 'His house is in the village though;',\n",
              " 'He will not see me stopping here',\n",
              " 'To watch his woods fill up with snow.',\n",
              " 'My little horse must think it queer']"
            ]
          },
          "execution_count": 9,
          "metadata": {},
          "output_type": "execute_result"
        }
      ],
      "source": [
        "lines = [line for line in lines if len(line)>0]\n",
        "lines[:5]"
      ]
    },
    {
      "cell_type": "code",
      "execution_count": null,
      "metadata": {
        "colab": {
          "base_uri": "https://localhost:8080/",
          "height": 259,
          "referenced_widgets": [
            "25e72723d64d48bd9a1184c8edf30aa2",
            "9d688310d8f440bea5d46fb4e97e1f80",
            "bf9ccf7ee3744b13acc246c6bb9b32d3",
            "391103d38b04454b8c5524522e767c3c",
            "9719a8c86c4b4aef9edbd047a233beba",
            "8a27f85325cf4adbac8469b9cf913794",
            "84fb0281697b437eb2a500782c5b9bd8",
            "b84e3ea101e2411583ebe9adbd11d621",
            "59dfcc0e709f42e984556d0a5b3b8ac3",
            "552b9095ad884a8780b8753dd3594cf8",
            "94b2eb21a73d46969e397468c3724cd5",
            "e09e2bedb0a249488d0b2d982742feff",
            "f8bc737b30f04fe1905276f45688e929",
            "2881df15e6614e53b4c0f78722c5e9eb",
            "58bdb4c3f9874ff3a29fd67451d3a4bc",
            "3476b00643254647a8e40de5ca92dec3",
            "1339eb30a658495ab458dd8d98188c66",
            "467c9f638e03469599abdf8e960fa258",
            "6d08f3bc92a4441ca8b9ff9ac8de58cd",
            "fd6f3768609648a59d1f01e8feaabfde",
            "fec0144213cb49639894fe83a115270e",
            "8745d85423c84ecf88636f41e6b95dd9",
            "2cc6a505ed674e3ab882244581a0066b",
            "c786a2091f3046ebb303790cd982a636",
            "236d7f0d6afe463bbbf9a2c0b64264ad",
            "1c62822129f147c8b125e3c974d363aa",
            "e4b710aaf1af4275b6cf4813a3215cca",
            "cd1cdd823d414853b9a1d4c2c1d611f0",
            "95e0cc96b0a448e0b82d8bbc843f0714",
            "e100fade75da4d63a906a24027e7f54a",
            "15361ebce2ca4e0ead64a4aac1d0d68c",
            "b753cf8971314116a9061677340e5624",
            "fcbca8b0ab6d42f0ba0f1551d5ebbc8c",
            "9cb1b95e0e3a495799d31466e3f576aa",
            "f72550e0993c45e9aa5ae25cf1a5a063",
            "3e46b853c6c540b89f3235c49cc47571",
            "7d21d125a2214a3ea42a9d844b4ce766",
            "3bd64d3b53274e7f8a206b4533b9a97d",
            "6facb1091fcd445b949725720602e7f9",
            "bcca9bac37ef45debebe24a8507f1d63",
            "5e2a71cef23e4cac9933d6b42a705ad0",
            "7abba99ab6cb4bf98e45da0b7691cbe3",
            "a0c4220906c54013b28f3f25dcf67361",
            "0fa96c177a0a438fbd57a6fab616a4e3",
            "27524d5254c84456a785fcfbf4dcdbf4",
            "f1e0e3fcea464bf99ba882130a5b6219",
            "5678e46a47334d85850009aa6b411ed5",
            "c4350a24722b4c9090f133f0a8f89a73",
            "4b73375cfe7748618247056a92557191",
            "4f855aafdf0a41f281a591f029096966",
            "91369839c2cf4a15aac0d0cee6faa9bd",
            "035e53f9d51e412e8ac565adce25c28c",
            "fa135c69ca1b46ac94eadf4a18c30cd1",
            "3bd9e2acd29145e4a72a2eefa0726fcb",
            "6e4d13cb169a4bb0854694a4ad822a1c",
            "4e15afb29acf427d8f5abce45e1debee",
            "97aa8b1429ee466c953ed0a806d9d1f5",
            "cf12fc3fb18b412b9dcf4fa1fd0d414d",
            "a5e9c88bcf3d411ab9e66bc89e85362f",
            "ff278bb3f8174971a60e3c248f0458a5",
            "776d7ef5621c4a4d99906252c44ff91f",
            "2c49cf7e7dc8456a80baed7b8b097d11",
            "7727f53a78e946afb7c8a9f97fa668dd",
            "e907f1c7048d48e9aeaf03771c068c77",
            "65bfa35a32a7436cb992f16fc83bc836",
            "94b477b482624a3a828a2a3dab9b1e2b",
            "6349341ce90b43ebb74bc1830a664978",
            "3d5c9d7534334268aa904079e5fa9392",
            "e69f52ee00f14f61ad7a87ddceb05cea",
            "123cb4d5a2f6411dbbc45a2e4a583fa5",
            "a74b41eb9fb84d8794d5df3c37b8b568",
            "14b41ff128384e118a01cb218e350443",
            "e049e4afc65146cf9aeab66322855c42",
            "6de848f9d5354b859eae66cf3d0426f6",
            "3098188938ea48f78eed23de185b3f1a",
            "718851c2bd844289b95e8299050d1052",
            "1e87e7d361be4027a404d4458ae01c21"
          ]
        },
        "id": "GXryFP1abT36",
        "outputId": "8b2b139e-6bc9-466d-98c2-2619f2971e09"
      },
      "outputs": [
        {
          "data": {
            "application/vnd.jupyter.widget-view+json": {
              "model_id": "25e72723d64d48bd9a1184c8edf30aa2",
              "version_major": 2,
              "version_minor": 0
            },
            "text/plain": [
              "config.json:   0%|          | 0.00/665 [00:00<?, ?B/s]"
            ]
          },
          "metadata": {},
          "output_type": "display_data"
        },
        {
          "data": {
            "application/vnd.jupyter.widget-view+json": {
              "model_id": "e09e2bedb0a249488d0b2d982742feff",
              "version_major": 2,
              "version_minor": 0
            },
            "text/plain": [
              "model.safetensors:   0%|          | 0.00/548M [00:00<?, ?B/s]"
            ]
          },
          "metadata": {},
          "output_type": "display_data"
        },
        {
          "data": {
            "application/vnd.jupyter.widget-view+json": {
              "model_id": "2cc6a505ed674e3ab882244581a0066b",
              "version_major": 2,
              "version_minor": 0
            },
            "text/plain": [
              "generation_config.json:   0%|          | 0.00/124 [00:00<?, ?B/s]"
            ]
          },
          "metadata": {},
          "output_type": "display_data"
        },
        {
          "data": {
            "application/vnd.jupyter.widget-view+json": {
              "model_id": "9cb1b95e0e3a495799d31466e3f576aa",
              "version_major": 2,
              "version_minor": 0
            },
            "text/plain": [
              "tokenizer_config.json:   0%|          | 0.00/26.0 [00:00<?, ?B/s]"
            ]
          },
          "metadata": {},
          "output_type": "display_data"
        },
        {
          "data": {
            "application/vnd.jupyter.widget-view+json": {
              "model_id": "27524d5254c84456a785fcfbf4dcdbf4",
              "version_major": 2,
              "version_minor": 0
            },
            "text/plain": [
              "vocab.json:   0%|          | 0.00/1.04M [00:00<?, ?B/s]"
            ]
          },
          "metadata": {},
          "output_type": "display_data"
        },
        {
          "data": {
            "application/vnd.jupyter.widget-view+json": {
              "model_id": "4e15afb29acf427d8f5abce45e1debee",
              "version_major": 2,
              "version_minor": 0
            },
            "text/plain": [
              "merges.txt:   0%|          | 0.00/456k [00:00<?, ?B/s]"
            ]
          },
          "metadata": {},
          "output_type": "display_data"
        },
        {
          "data": {
            "application/vnd.jupyter.widget-view+json": {
              "model_id": "6349341ce90b43ebb74bc1830a664978",
              "version_major": 2,
              "version_minor": 0
            },
            "text/plain": [
              "tokenizer.json:   0%|          | 0.00/1.36M [00:00<?, ?B/s]"
            ]
          },
          "metadata": {},
          "output_type": "display_data"
        },
        {
          "name": "stderr",
          "output_type": "stream",
          "text": [
            "Device set to use cpu\n"
          ]
        }
      ],
      "source": [
        "gen = pipeline('text-generation', model='gpt2')"
      ]
    },
    {
      "cell_type": "code",
      "execution_count": null,
      "metadata": {
        "colab": {
          "base_uri": "https://localhost:8080/",
          "height": 36
        },
        "id": "hddOZagDcEvR",
        "outputId": "8a2f1031-8a3b-4d3d-8af4-adf3323591fc"
      },
      "outputs": [
        {
          "data": {
            "application/vnd.google.colaboratory.intrinsic+json": {
              "type": "string"
            },
            "text/plain": [
              "'Whose woods these are I think I know.'"
            ]
          },
          "execution_count": 12,
          "metadata": {},
          "output_type": "execute_result"
        }
      ],
      "source": [
        "lines[0]"
      ]
    },
    {
      "cell_type": "code",
      "execution_count": null,
      "metadata": {
        "colab": {
          "base_uri": "https://localhost:8080/"
        },
        "id": "rb6zAy5mcK39",
        "outputId": "54b3fd7f-ce64-4917-e88f-4fbb5b172649"
      },
      "outputs": [
        {
          "name": "stderr",
          "output_type": "stream",
          "text": [
            "Truncation was not explicitly activated but `max_length` is provided a specific value, please use `truncation=True` to explicitly truncate examples to max length. Defaulting to 'longest_first' truncation strategy. If you encode pairs of sequences (GLUE-style) with the tokenizer you can select this strategy more precisely by providing a specific strategy to `truncation`.\n",
            "Setting `pad_token_id` to `eos_token_id`:50256 for open-end generation.\n",
            "Both `max_new_tokens` (=256) and `max_length`(=20) seem to have been set. `max_new_tokens` will take precedence. Please refer to the documentation for more information. (https://huggingface.co/docs/transformers/main/en/main_classes/text_generation)\n"
          ]
        },
        {
          "data": {
            "text/plain": [
              "[{'generated_text': \"Whose woods these are I think I know. I also don't think there's anything in the woods which is the same as I believe. I will tell you that I'm going to make the best judgement I can on this topic.I think it's good to have some time to think. I mean I'm not going to sit on the couch and pretend I'm not going to do something that you're not going to want to do. And there are things in the woods that are not what I want to do. I want to be able to go to the grocery store and buy stuff from the store. You know what I mean? I want to look at my phone and see where it's gone and what it is that I want to buy, do my research and see what it is.I want to be able to do something. There are things that I've been missing in my life that I want to do. I want to be able to make a difference for the people that I love and have made a difference for them in this world. I want to make a difference and do something for them that I can't do for myself.I don't want to be making a huge deal out of something that I do or something that I'm going to do or something that I think I care about and\"}]"
            ]
          },
          "execution_count": 14,
          "metadata": {},
          "output_type": "execute_result"
        }
      ],
      "source": [
        "gen(lines[0],max_length=20)"
      ]
    },
    {
      "cell_type": "code",
      "execution_count": null,
      "metadata": {
        "colab": {
          "base_uri": "https://localhost:8080/"
        },
        "id": "K0QXBPHxcQ9X",
        "outputId": "9b83ed68-7e5b-4d42-9030-a38f57e484eb"
      },
      "outputs": [
        {
          "name": "stderr",
          "output_type": "stream",
          "text": [
            "Setting `pad_token_id` to `eos_token_id`:50256 for open-end generation.\n",
            "Both `max_new_tokens` (=256) and `max_length`(=30) seem to have been set. `max_new_tokens` will take precedence. Please refer to the documentation for more information. (https://huggingface.co/docs/transformers/main/en/main_classes/text_generation)\n"
          ]
        },
        {
          "data": {
            "text/plain": [
              "[{'generated_text': 'His house is in the village though; I am only in it for the sake of my children, who have been sent to school.\\n\\n\"I am sorry to hear of your loss; it is my fault I should have been sent to school.\\n\\n\"I could not have done more but to send my daughter to school.\\n\\n\"I have been given a new name for the school, as I have written the name of my daughter for a girl who has been sent to school as well as for the boys.\\n\\n\"I have had no difficulties in getting my daughter to school.\\n\\n\"It is my fault I should have been sent to school for something; I did not know what it would be.\\n\\n\"I am sorry I have not sent my daughter to school.\\n\\n\"I am sorry to hear of my daughter\\'s loss. It is my fault I should have been sent to school for something, but I have not been able to do so.\\n\\n\"My daughter doesn\\'t look too well and I have been told she needs a little extra support.\\n\\n\"I am sorry I have not sent my daughter to school.\\n\\n\"I am sorry to hear of the loss of my daughter.\\n\\n\"I hope you will send her back and'},\n",
              " {'generated_text': \"His house is in the village though; it is quite a house, and he has put one of his children in it. It is a very neat house. It is very quiet.\\n\\nHow much trouble did you have to deal with?\\n\\nI had to go to school all day, and then to work on the horse. I had to go to work on my own, at home.\\n\\nWas there a war happening in your country?\\n\\nYes, there was a war.\\n\\nWhat was the situation back then?\\n\\nWell, the war was very strong. All the generals of the country were there. I am not sure how much fighting took place, because we were only an hour from the end of the war.\\n\\nDid you know that the war was raging in the village?\\n\\nNo, I didn't.\\n\\nIt was a good war, you know?\\n\\nYes, it was. But it was a bad war.\\n\\nWhat did you call it, a bad war?\\n\\nIt was a bad war, you know?\\n\\nAnd you told us it was your fault.\\n\\nYes, it was.\\n\\nI didn't know what you called it. Did you know what you called it?\\n\\nYes, I\"}]"
            ]
          },
          "execution_count": 16,
          "metadata": {},
          "output_type": "execute_result"
        }
      ],
      "source": [
        "gen(lines[1], max_length=30,num_return_sequences =2) #we are generating text for line 1"
      ]
    },
    {
      "cell_type": "code",
      "execution_count": null,
      "metadata": {
        "colab": {
          "base_uri": "https://localhost:8080/"
        },
        "id": "DF3T7HzRdgUR",
        "outputId": "a3383e04-d921-48aa-f98c-6bf95580a327"
      },
      "outputs": [
        {
          "name": "stderr",
          "output_type": "stream",
          "text": [
            "Setting `pad_token_id` to `eos_token_id`:50256 for open-end generation.\n",
            "Both `max_new_tokens` (=256) and `max_length`(=30) seem to have been set. `max_new_tokens` will take precedence. Please refer to the documentation for more information. (https://huggingface.co/docs/transformers/main/en/main_classes/text_generation)\n"
          ]
        },
        {
          "name": "stdout",
          "output_type": "stream",
          "text": [
            "His house is in the village though; a small building is next to it, and there's a large courtyard. It's a rather small place, and it's quite old even today.\n",
            "\n",
            "\"Ah, my dear, I'm glad to see you, but I'm sure I'll find a lot of trouble if I don't try to enter the house.\"\n",
            "\n",
            "\"This is not a big town, it's just a small village. What's your name?\"\n",
            "\n",
            "\"Rukon-kun.\"\n",
            "\n",
            "\"Rukon-kun is a little girl called Maori-chan. She's a really nice person, and we've been talking all this time. When I met her, she was just a kid, but now she's an adult.\"\n",
            "\n",
            "\"You mean, I'm thinking that she's really good?\"\n",
            "\n",
            "\"I'm thinking she's really good. I think it's that she's not as easy to talk to as her older sister. And my room's not very big, so you're not really used to sitting in front of me.\"\n",
            "\n",
            "\"No. I know that. It's just that I'm a little clumsy at the moment, but I don't like to get in trouble and think I'm a little clumsy. So you're\n",
            "His house is in the village though; it was a great deal better back then. The town still has its walls, but the old houses are no longer there. The castle is there, there's a lot of stone that's been used for a while. And I think that's where it's going to end up. It's not a good idea to build a castle there, because it's going to be quite dangerous.\n",
            "\n",
            "So, no, I think that's a good idea. But there's still a lot of fighting going on in the village. You'll feel good if you stay there for a while, but it's not going to last very long.\n",
            "\n",
            "No matter what happens, you're going to have to go back.\n",
            "\n",
            "I've been thinking a lot more now, but I still have to get over the pain of the village and the war. The first step is to go back.\n",
            "\n",
            "I'm going to go back to my old village. I'm going to go back to the village, and I'm going to be here in the end.\n",
            "\n",
            "How did you meet him?\n",
            "\n",
            "It was a long time ago. I was a little girl. I was a little girl, I used to come to my house when the village was very young.\n"
          ]
        }
      ],
      "source": [
        "#remove the whitespace from the text for the 2 sequence we generated\n",
        "for i in gen(lines[1], max_length=30,num_return_sequences =2):\n",
        "  print(i['generated_text'])"
      ]
    },
    {
      "cell_type": "code",
      "execution_count": null,
      "metadata": {
        "id": "eU6euHuBcpiT"
      },
      "outputs": [],
      "source": [
        "import textwrap\n",
        "def wrap(x):\n",
        "    return textwrap.fill(x,replace_whitespace=False, fix_sentence_endings=True)"
      ]
    },
    {
      "cell_type": "code",
      "execution_count": null,
      "metadata": {
        "colab": {
          "base_uri": "https://localhost:8080/"
        },
        "id": "Tejw5srhdFeg",
        "outputId": "11512f15-8642-487b-c111-6b203fde176d"
      },
      "outputs": [
        {
          "name": "stderr",
          "output_type": "stream",
          "text": [
            "Setting `pad_token_id` to `eos_token_id`:50256 for open-end generation.\n",
            "Both `max_new_tokens` (=256) and `max_length`(=30) seem to have been set. `max_new_tokens` will take precedence. Please refer to the documentation for more information. (https://huggingface.co/docs/transformers/main/en/main_classes/text_generation)\n"
          ]
        },
        {
          "name": "stdout",
          "output_type": "stream",
          "text": [
            "Whose woods these are I think I know.  The first time I saw anything\n",
            "like the Redneck is when she was out for a stroll in the woods of the\n",
            "hills in South Dakota.  I was watching her when she came back to the\n",
            "house with her young son.  When she came back she looked like she was\n",
            "dead.  So I thought, \"Wow, this is the first time I've really seen\n",
            "her.  I can't believe she's gone.  I want to help her out.\"  And he\n",
            "did, and what a wonderful thing that was.\n",
            "\n",
            "So I came home, went into\n",
            "the woods and they showed me the pictures.  I was so excited to go\n",
            "through them.  I was so excited to go down on my knees and watch her.\n",
            "I think about that because she's such a beautiful little girl.  She's\n",
            "so small, but she's so beautiful.\n",
            "\n",
            "Her hair is so long, but her face\n",
            "is so light.  She looks like a little girl in the forest.  She's so\n",
            "bright.  And she's so big, like she never leaves the house.  I think\n",
            "it was just as beautiful as the man who did that.\n",
            "\n",
            "How did you start\n",
            "to see the Redneck?\n",
            "\n",
            "I'm very curious.  I think I was just like, \"Oh\n",
            "my God, this is the\n"
          ]
        }
      ],
      "source": [
        "out = gen(lines[0],max_length=30)\n",
        "print(wrap(out[0]['generated_text']))"
      ]
    },
    {
      "cell_type": "code",
      "execution_count": null,
      "metadata": {
        "colab": {
          "base_uri": "https://localhost:8080/"
        },
        "id": "uq4rxDjWdSjO",
        "outputId": "9d36b6e7-1b4d-4954-b6f2-b0011bebe04a"
      },
      "outputs": [
        {
          "name": "stderr",
          "output_type": "stream",
          "text": [
            "Setting `pad_token_id` to `eos_token_id`:50256 for open-end generation.\n",
            "Both `max_new_tokens` (=256) and `max_length`(=60) seem to have been set. `max_new_tokens` will take precedence. Please refer to the documentation for more information. (https://huggingface.co/docs/transformers/main/en/main_classes/text_generation)\n"
          ]
        },
        {
          "name": "stdout",
          "output_type": "stream",
          "text": [
            "Transformers have a wide variet of application in nlp4 or nlp5.\n",
            "\n",
            "They\n",
            "have a wide variet of application in nlp4 or nlp5. They have a wide\n",
            "variet of application in nlp4, nlp5, or nlp6, depending on what the\n",
            "application type is.\n",
            "\n",
            "They have a wide variet of application in nlp4,\n",
            "nlp5, or nlp6, depending on what the application type is.  They have a\n",
            "wide variet of application in nlp4, nlp5, or nlp6, depending on what\n",
            "the application type is.\n",
            "\n",
            "They have a wide variet of application in\n",
            "nlp4, nlp5, or nlp6, depending on what the application type is.  They\n",
            "have a wide variet of application in nlp4, nlp5, or nlp6, depending on\n",
            "what the application type is.\n",
            "\n",
            "They have a wide variet of application\n",
            "in nlp4, nlp5, or nlp6, depending on what the application type is.\n",
            "They have a wide variet of application in nlp4, nlp5, or nlp6,\n",
            "depending on what the application type is.\n",
            "\n",
            "They have a wide variet of\n",
            "application in nlp4,\n",
            "\n",
            "Transformers have a wide variet of application in nlp and nlp2. For\n",
            "example, the following line should be run to get the current\n",
            "pvDataSource and current pvHeaderDataSource to the pvDataSource:\n",
            "\n",
            "var\n",
            "pvDataSourceData = pvDataSourceData.  pDataSource = NULL;\n",
            "pvHeaderDataSource = pvHeaderDataSource.  pHeaderData = NULL;\n",
            "\n",
            "The\n",
            "above example will generate a pvHeaderDataSource that contains a\n",
            "pvDataSourceHeader.  The following code will generate the following\n",
            "output:\n",
            "\n",
            "Notice that the pvHeaderDataSource is not set, but is set as\n",
            "follows:\n",
            "\n",
            "var pvDataSourceData = pvDataSourceData.  pDataSource =\n",
            "NULL; pvHeaderDataSource = pvHeaderDataSource.  pHeaderData = NULL;\n",
            "This is because the pvDataSource contains a pvHeaderDataSource which\n",
            "is already set by the pvDataSourceData.  This means that the\n",
            "pvHeaderDataSource will not have any effect if the pvDataSourceData is\n",
            "set.\n",
            "\n",
            "After the pvDataSourceData is set, the pvHeaderDataSource will\n",
            "be deleted from the pvDataSourceData and will be deleted from the\n",
            "pvHeaderData\n",
            "\n",
            "Transformers have a wide variet of application in nlp, but they are\n",
            "also very flexible in how they are written.\n",
            "\n",
            "You can use some of these\n",
            "to build your own scripts to deal with some of the issues you might\n",
            "encounter if you have some of them in your development pipeline.\n",
            "\n",
            "If\n",
            "you need to make sure your applications don't have any conflict, you\n",
            "can use the template file to create your own scripts.\n",
            "\n",
            "As a general\n",
            "rule, if you want to get your projects to work on a single machine,\n",
            "you can write your own scripts, such as using a test suite running on\n",
            "a local machine to get the latest version of your application.\n",
            "\n",
            "The\n",
            "template file also supports some of the more common problems that we\n",
            "might encounter like:\n",
            "\n",
            "The code we want to write is not supported\n",
            "\n",
            "The\n",
            "code we want to write doesn't work\n",
            "\n",
            "The code that is being used is not\n",
            "supported\n",
            "\n",
            "You can also use templates to write your own scripts to\n",
            "help you deal with some of these issues.\n",
            "\n",
            "You can also use templates\n",
            "to write custom scripts to help you deal with some of these problems\n",
            "In this section we will look at some of these templates, but we also\n",
            "have a few more that you can use to help you develop your own\n",
            "application or start your own projects.\n",
            "\n"
          ]
        }
      ],
      "source": [
        "prompt ='Transformers have a wide variet of application in nlp'\n",
        "out =gen(prompt, max_length=60, num_return_sequences=3)\n",
        "for i in out:\n",
        "  print(wrap(i['generated_text']))\n",
        "  print()"
      ]
    },
    {
      "cell_type": "code",
      "execution_count": null,
      "metadata": {
        "id": "46MNmd0oeRc_"
      },
      "outputs": [],
      "source": []
    }
  ],
  "metadata": {
    "colab": {
      "provenance": []
    },
    "kernelspec": {
      "display_name": "Python 3",
      "name": "python3"
    },
    "language_info": {
      "name": "python"
    }
  },
  "nbformat": 4,
  "nbformat_minor": 0
}
